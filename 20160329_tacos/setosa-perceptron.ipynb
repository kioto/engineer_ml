{
 "cells": [
  {
   "cell_type": "code",
   "execution_count": 1,
   "metadata": {
    "collapsed": false
   },
   "outputs": [
    {
     "name": "stdout",
     "output_type": "stream",
     "text": [
      "data size = 150\n",
      "[[ 5.1  3.5  1.4  0.2]\n",
      " [ 4.9  3.   1.4  0.2]\n",
      " [ 4.7  3.2  1.3  0.2]\n",
      " [ 4.6  3.1  1.5  0.2]\n",
      " [ 5.   3.6  1.4  0.2]]\n"
     ]
    }
   ],
   "source": [
    "# 目的\n",
    "# irisデータから、setosaを認識するように学習するための\n",
    "# パーセプトロンを実装すること。\n",
    "# \n",
    "# このサンプルを参考にしている。\n",
    "# https://github.com/yamatsuka-hiroto/ml/blob/master/perceptron_iris.ipynb\n",
    "\n",
    "%matplotlib inline\n",
    "\n",
    "import numpy as np\n",
    "from matplotlib import pyplot as plt\n",
    "from sklearn import datasets\n",
    "import itertools\n",
    "\n",
    "# 1. 学習データの取得\n",
    "iris = datasets.load_iris()\n",
    "\n",
    "data = iris.data\n",
    "\n",
    "# データサイズを表示\n",
    "print('data size =', len(data))\n",
    "# 試しに最初の5つを表示してみる。\n",
    "print(data[:5])"
   ]
  },
  {
   "cell_type": "code",
   "execution_count": 2,
   "metadata": {
    "collapsed": false
   },
   "outputs": [
    {
     "name": "stdout",
     "output_type": "stream",
     "text": [
      "['sepal length (cm)', 'sepal width (cm)', 'petal length (cm)', 'petal width (cm)']\n"
     ]
    }
   ],
   "source": [
    "# このデータ４種類には名前が付いている\n",
    "# yamatsukaさんのサンプルでは、先頭２つ['sepal length (cm)', 'sepal width (cm)']\n",
    "# だけ使用している。\n",
    "feature_names = iris.feature_names\n",
    "print(feature_names)"
   ]
  },
  {
   "cell_type": "code",
   "execution_count": 3,
   "metadata": {
    "collapsed": false
   },
   "outputs": [
    {
     "name": "stdout",
     "output_type": "stream",
     "text": [
      "target = [0 0 0 0 0 0 0 0 0 0 0 0 0 0 0 0 0 0 0 0 0 0 0 0 0 0 0 0 0 0 0 0 0 0 0 0 0\n",
      " 0 0 0 0 0 0 0 0 0 0 0 0 0 1 1 1 1 1 1 1 1 1 1 1 1 1 1 1 1 1 1 1 1 1 1 1 1\n",
      " 1 1 1 1 1 1 1 1 1 1 1 1 1 1 1 1 1 1 1 1 1 1 1 1 1 1 2 2 2 2 2 2 2 2 2 2 2\n",
      " 2 2 2 2 2 2 2 2 2 2 2 2 2 2 2 2 2 2 2 2 2 2 2 2 2 2 2 2 2 2 2 2 2 2 2 2 2\n",
      " 2 2]\n",
      "size = 150\n",
      "target_names = ['setosa' 'versicolor' 'virginica']\n"
     ]
    }
   ],
   "source": [
    "# 目的はsetosaを見つけること\n",
    "# 各データの結果（irisの種類）はtargetに入っている。\n",
    "# これは0,1,2の３種類、がデータ数だけある。\n",
    "targets = iris.target\n",
    "print('target =', targets)\n",
    "print('size =', len(targets))\n",
    "\n",
    "# 0,1,2の名前はtarget_namesにある。\n",
    "target_names=iris.target_names\n",
    "print('target_names =', target_names)"
   ]
  },
  {
   "cell_type": "code",
   "execution_count": 4,
   "metadata": {
    "collapsed": false
   },
   "outputs": [
    {
     "name": "stdout",
     "output_type": "stream",
     "text": [
      "labels = ['setosa' 'setosa' 'setosa' 'setosa' 'setosa' 'setosa' 'setosa' 'setosa'\n",
      " 'setosa' 'setosa' 'setosa' 'setosa' 'setosa' 'setosa' 'setosa' 'setosa'\n",
      " 'setosa' 'setosa' 'setosa' 'setosa' 'setosa' 'setosa' 'setosa' 'setosa'\n",
      " 'setosa' 'setosa' 'setosa' 'setosa' 'setosa' 'setosa' 'setosa' 'setosa'\n",
      " 'setosa' 'setosa' 'setosa' 'setosa' 'setosa' 'setosa' 'setosa' 'setosa'\n",
      " 'setosa' 'setosa' 'setosa' 'setosa' 'setosa' 'setosa' 'setosa' 'setosa'\n",
      " 'setosa' 'setosa' 'versicolor' 'versicolor' 'versicolor' 'versicolor'\n",
      " 'versicolor' 'versicolor' 'versicolor' 'versicolor' 'versicolor'\n",
      " 'versicolor' 'versicolor' 'versicolor' 'versicolor' 'versicolor'\n",
      " 'versicolor' 'versicolor' 'versicolor' 'versicolor' 'versicolor'\n",
      " 'versicolor' 'versicolor' 'versicolor' 'versicolor' 'versicolor'\n",
      " 'versicolor' 'versicolor' 'versicolor' 'versicolor' 'versicolor'\n",
      " 'versicolor' 'versicolor' 'versicolor' 'versicolor' 'versicolor'\n",
      " 'versicolor' 'versicolor' 'versicolor' 'versicolor' 'versicolor'\n",
      " 'versicolor' 'versicolor' 'versicolor' 'versicolor' 'versicolor'\n",
      " 'versicolor' 'versicolor' 'versicolor' 'versicolor' 'versicolor'\n",
      " 'versicolor' 'virginica' 'virginica' 'virginica' 'virginica' 'virginica'\n",
      " 'virginica' 'virginica' 'virginica' 'virginica' 'virginica' 'virginica'\n",
      " 'virginica' 'virginica' 'virginica' 'virginica' 'virginica' 'virginica'\n",
      " 'virginica' 'virginica' 'virginica' 'virginica' 'virginica' 'virginica'\n",
      " 'virginica' 'virginica' 'virginica' 'virginica' 'virginica' 'virginica'\n",
      " 'virginica' 'virginica' 'virginica' 'virginica' 'virginica' 'virginica'\n",
      " 'virginica' 'virginica' 'virginica' 'virginica' 'virginica' 'virginica'\n",
      " 'virginica' 'virginica' 'virginica' 'virginica' 'virginica' 'virginica'\n",
      " 'virginica' 'virginica' 'virginica']\n"
     ]
    }
   ],
   "source": [
    "# targetsを名前に変換してlabelsに入れる\n",
    "labels = target_names[targets]\n",
    "print('labels =', labels)"
   ]
  },
  {
   "cell_type": "code",
   "execution_count": 5,
   "metadata": {
    "collapsed": false
   },
   "outputs": [
    {
     "data": {
      "image/png": "[encoded data removed]",
      "text/plain": [
       "<matplotlib.figure.Figure at 0x1134fe358>"
      ]
     },
     "metadata": {},
     "output_type": "display_data"
    }
   ],
   "source": [
    "# 2. 学習データの確認\n",
    "#\n",
    "# これをグラフにしてみる。\n",
    "# setosa, versicolorの２つのデータを表示する。\n",
    "X_setosa     = data[labels == 'setosa'][:, 0:2]\n",
    "X_versicolor = data[labels == 'versicolor'][:, 0:2]\n",
    "\n",
    "# 学習データのグラフ表示\n",
    "plt.scatter(X_setosa[:, 0], X_setosa[:, 1], marker='>',color='red')\n",
    "# versicolor\n",
    "plt.scatter(X_versicolor[:, 0], X_versicolor[:, 1],  marker='o', color='g')\n",
    "plt.show()"
   ]
  },
  {
   "cell_type": "code",
   "execution_count": 6,
   "metadata": {
    "collapsed": false
   },
   "outputs": [
    {
     "name": "stdout",
     "output_type": "stream",
     "text": [
      "X[0〜4] =  [[ 5.1  3.5]\n",
      " [ 4.9  3. ]\n",
      " [ 4.7  3.2]\n",
      " [ 4.6  3.1]\n",
      " [ 5.   3.6]]\n",
      "Y[0〜4] =  [ 1.  1.  1.  1.  1.]\n"
     ]
    }
   ],
   "source": [
    "# 学習データを使いやすいように加工する\n",
    "\n",
    "# 学習データの入力X\n",
    "# np.r_は行列に列方向で接続する\n",
    "X = np.r_[X_setosa, X_versicolor]\n",
    "\n",
    "# 学習データの結果Y\n",
    "# setosaを探すのでsetosaに1を、そうでなければ0を入れておく。\n",
    "Y = np.r_[np.ones(len(X_setosa)), np.zeros(len(X_versicolor))]\n",
    "\n",
    "print('X[0〜4] = ', X[:5])\n",
    "print('Y[0〜4] = ', Y[:5])"
   ]
  },
  {
   "cell_type": "code",
   "execution_count": 7,
   "metadata": {
    "collapsed": false
   },
   "outputs": [],
   "source": [
    "# ３.パーセプトロンクラスを定義する\n",
    "\n",
    "class Perceptron:\n",
    "    def __init__(self, w0, bias, rho):\n",
    "        '''初期化\n",
    "        w0 : 重み\n",
    "        bias : バイアス\n",
    "        rho  : 学習率ρ\n",
    "        '''\n",
    "        self.w = np.concatenate((w0, bias))  # 重みw0とbiasをくっつけて、１つのベクタにしておく\n",
    "        self.rho = rho\n",
    "        \n",
    "    def loss_function(self, u):\n",
    "        '''損失関数\n",
    "        '''\n",
    "        return 1 if u > 0 else 0\n",
    "    \n",
    "    def fx(self, x):\n",
    "        '''f(x)を実行（ベクトルの演算　w * x）\n",
    "        '''\n",
    "        return self.w.dot(x)\n",
    "    \n",
    "    def train(self, X, Yt, loop_cnt):\n",
    "        '''学習の実行\n",
    "        X : 学習データ（入力）\n",
    "        Y : 学習データ（期待値）\n",
    "        loop_cnt : 学習回数の上限\n",
    "        '''\n",
    "        # Xに[1]をくっつける\n",
    "        # biasの係数になる\n",
    "        X_ = np.concatenate((X, np.ones(len(X))[:, np.newaxis]),axis=1)\n",
    "        \n",
    "        # 学習回数だけループ\n",
    "        for num in range(loop_cnt):\n",
    "            success = 0\n",
    "            for x, y in zip(X_, Yt):\n",
    "                # 入力xに期待値yで学習\n",
    "                res = y - self.loss_function(self.fx(x))\n",
    "                \n",
    "                if res == 0:\n",
    "                    # resが0（期待値と一致）なら成功\n",
    "                    success += 1\n",
    "                elif res > 0:\n",
    "                    # 期待値の方が大きければ重みを増やす\n",
    "                    self.w += x * self.rho\n",
    "                elif res < 0:\n",
    "                    # 期待値の方が大きければ重みを減らす\n",
    "                    self.w -= x * self.rho\n",
    "            if (num+1) % 10 == 0:\n",
    "                print('{}, w=({}), bias={}'.format(num+1, self.w[:2], self.w[2]))\n",
    "                \n",
    "            if success == len(X):\n",
    "                # すべて0ならば終了\n",
    "                return num, (self.w[:2], self.w[2])\n",
    "            \n",
    "            num += 1\n",
    "\n",
    "        # 失敗したら-1を返す\n",
    "        return -1, (self.w[:2], self.w[2])"
   ]
  },
  {
   "cell_type": "code",
   "execution_count": 8,
   "metadata": {
    "collapsed": false
   },
   "outputs": [
    {
     "name": "stdout",
     "output_type": "stream",
     "text": [
      "10, w=([-0.277 -0.817]), bias=2.8800000000000026\n",
      "20, w=([-0.472 -0.348]), bias=2.8900000000000023\n",
      "30, w=([-0.594 -0.087]), bias=2.8900000000000023\n",
      "40, w=([-0.65   0.135]), bias=2.8800000000000026\n",
      "50, w=([-0.713  0.272]), bias=2.860000000000003\n",
      "60, w=([-0.765  0.391]), bias=2.8400000000000034\n",
      "70, w=([-0.824  0.455]), bias=2.820000000000004\n",
      "80, w=([-0.866  0.525]), bias=2.8000000000000043\n",
      "82: w=([-0.848  0.557]), bias=2.8000000000000043\n"
     ]
    }
   ],
   "source": [
    "# ４. 学習の実行\n",
    "\n",
    "# 重みの初期値\n",
    "w = np.array([1., -1.,])\n",
    "# バイアスの初期値\n",
    "bias = np.array([3.,])\n",
    "# 学習率を0.01\n",
    "rate = 0.01\n",
    "\n",
    "# パーセプトロンを生成\n",
    "p0 = Perceptron(w, bias, rate)\n",
    "\n",
    "# 学習回数\n",
    "learn_cnt = 100\n",
    "\n",
    "# 実行\n",
    "(num, (w_, bias_)) = p0.train(X, Y, learn_cnt)\n",
    "print('{}: w=({}), bias={}'.format(num, w_, bias_))"
   ]
  },
  {
   "cell_type": "code",
   "execution_count": 9,
   "metadata": {
    "collapsed": false
   },
   "outputs": [
    {
     "data": {
      "image/png": "[encoded data removed]",
      "text/plain": [
       "<matplotlib.figure.Figure at 0x1135d3710>"
      ]
     },
     "metadata": {},
     "output_type": "display_data"
    }
   ],
   "source": [
    "# ５. 学習結果のグラフ化\n",
    "\n",
    "# 式の作成\n",
    "a = - (w_[0] / w_[1])\n",
    "b = - (bias_ / w_[1])\n",
    "x = np.array(range(4, 8))\n",
    "y = a * x + b\n",
    "\n",
    "\n",
    "# 式の表示\n",
    "plt.plot(x, y, color='blue', linewidth=3)\n",
    "# setosaデータ\n",
    "plt.scatter(X_setosa[:, 0], X_setosa[:, 1], marker='>',color='red')\n",
    "# versicolorで０た\n",
    "plt.scatter(X_versicolor[:, 0], X_versicolor[:, 1],  marker='o', color='g')\n",
    "\n",
    "# グラフ表示\n",
    "plt.show()"
   ]
  },
  {
   "cell_type": "code",
   "execution_count": null,
   "metadata": {
    "collapsed": true
   },
   "outputs": [],
   "source": []
  }
 ],
 "metadata": {
  "kernelspec": {
   "display_name": "Python 3",
   "language": "python",
   "name": "python3"
  },
  "language_info": {
   "codemirror_mode": {
    "name": "ipython",
    "version": 3
   },
   "file_extension": ".py",
   "mimetype": "text/x-python",
   "name": "python",
   "nbconvert_exporter": "python",
   "pygments_lexer": "ipython3",
   "version": "3.5.1"
  }
 },
 "nbformat": 4,
 "nbformat_minor": 0
}
